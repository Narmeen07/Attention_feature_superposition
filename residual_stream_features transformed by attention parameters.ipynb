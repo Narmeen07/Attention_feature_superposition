{
 "cells": [
  {
   "cell_type": "markdown",
   "id": "c15728a7-23df-4889-83b3-29b12950f8e0",
   "metadata": {},
   "source": [
    "# Investigation of How Features Project Onto Attention Parameters"
   ]
  },
  {
   "cell_type": "markdown",
   "id": "195caa4a-95fa-4aaf-898e-9f74b5503194",
   "metadata": {},
   "source": [
    "## Overview"
   ]
  },
  {
   "cell_type": "markdown",
   "id": "88459c17-5e39-4a0e-addf-0f14e5f3a826",
   "metadata": {},
   "source": [
    "The autoencoders generated within this repository consist of a number of vectors (\"features\") in the residual space, each representing a (hopefully interpretable) feature of residual space. Here, we want to look at the attention heads of the model through the lens of those features.\n",
    "\n",
    "Our intention is to explore the alignment between features and attention parameters. At a high level, the motivation is that for each attention parameter (`Q`, `K`, `V`), and for each feature, we want to know how closely that attention parameter is aligned with that feature. One approach to achieve this quantitatively is by employing the cosine similarity (or its squared counterpart, depending on the exact nature of our interpretability objectives).\n",
    "\n",
    "If we were doing this for a feature ($ \\in \\mathbb{R}^d\\_model $) and a neuron ($ \\in \\mathbb{R}^d\\_model $), we could do this by measuring the cosine similarity\n",
    "$ cos\\_sim(\\mathbf{a}, \\mathbf{b}) = \\frac{\\mathbf{a} \\cdot \\mathbf{b}}{\\| \\mathbf{a} \\| \\| \\mathbf{b} \\|} $\n",
    "if we were measuring the extent to which the feature aligned with the neuron, or the squared cosine similarity\n",
    "$ cos^2\\_sim(\\mathbf{a}, \\mathbf{b}) = cos\\_sim(\\mathbf{a}, \\mathbf{b})^2 $\n",
    "if we only cared about the extent to which they were non-orthogonal.\n",
    "\n",
    "We would like to do the analogous operation, where we have a column vector \n",
    "$ \\mathbf{f} \\in \\mathbb{R}^n $\n",
    "(our dictionary feature) and a subspace\n",
    "$ A \\in \\mathbb{R}^{n \\times m} $ (our attention paremteter). We only care about magnitude, rather than direction, since an attention space does not meaningfully have a direction (I think, **@todo** confirm this with someone who knows math). That operation looks like\n",
    "\n",
    "However, what we actually have here is a matrix\n",
    "$ F \\in \\mathbb{R}^{d\\_dict \\times d\\_model} $\n",
    "which represents d\\_dict features each of size \n",
    "$ d_{\\text{model}} = d\\_model $\n",
    "from our learned dictionary, and an attention parameter matrix \n",
    "$ W \\in \\mathbb{R}^{d\\_model \\times d\\_attn} $\n",
    "an attention parameter (e.g. the key matrix of layer 1 head 3).\n",
    "\n",
    "Our analogous operation, then, looks like\n",
    "\n",
    "1. Normalize the columns of $ W $ to unit norm:  \n",
    "$ {{W\\_normed}_{ij}} = \\frac{W_{ij}}{\\sqrt{\\sum_{i=1}^{d\\_model} W_{ij}^2}} $  \n",
    "where $ i $ denotes the row index and $ j $ the column index.\n",
    "\n",
    "3. Compute a matrix product between the attention parameter matrix and the normalized matrix of dictionary features $ \\text{F} $, element-wise squared:  \n",
    "$ M = (W\\_normed \\cdot F)^2 $  \n",
    "where $ \\cdot $ denotes matrix multiplication.\n",
    "\n",
    "5. Sum over the columns of matrix $ M $ to get a resulting vector $ \\text{result} \\in \\mathbb{R}^{d\\_dict} $:  \n",
    "$ \\text{result}_i = \\sum_{j=1}^{d\\_model} M_{ij} $\n",
    "\n",
    "We call this score the **Feature-Attention Alignment Score** (FAAS) (**@todo** better name for this, also is this basically a standard metric already? This has _got_ to be some sort of standard metric). Note that FAAS can exceed 1."
   ]
  },
  {
   "cell_type": "markdown",
   "id": "7d582776-4a0a-4bb4-8f66-6bc98570f3d4",
   "metadata": {},
   "source": [
    "## Hypotheses"
   ]
  },
  {
   "cell_type": "markdown",
   "id": "2a8f0105-4da5-443b-b8fc-3c91b9d1a1ef",
   "metadata": {},
   "source": [
    "1. For features the attention head does not \"care\" about, the FAAS values will cluster near 0. If you pass a dictionary of random features to this method, it will form a normal distribution centered around $ \\frac{d\\_attn}{d\\_model} $ because math.\n",
    "2. For a dictionary trained on the residual stream of the same model the attention heads are from, FAAS will form a long-tailed or bimodal distribution, with a large cluster of features with near-zero FAAS, and a few features with large FAAS.\n",
    "3. The features with large FAAS values will be semantically related to each other when the technique is applied to language models."
   ]
  },
  {
   "cell_type": "markdown",
   "id": "dbd32f8a-4799-4430-99ac-4b8e02ad467a",
   "metadata": {},
   "source": [
    "## Code"
   ]
  },
  {
   "cell_type": "code",
   "execution_count": 1,
   "id": "153e8429-5d4f-42d4-9ac4-73064fe0abb7",
   "metadata": {},
   "outputs": [
    {
     "name": "stdout",
     "output_type": "stream",
     "text": [
      "Requirement already satisfied: transformer_lens in /opt/conda/lib/python3.10/site-packages (1.5.0)\n",
      "Requirement already satisfied: fancy-einsum>=0.0.3 in /opt/conda/lib/python3.10/site-packages (from transformer_lens) (0.0.3)\n",
      "Requirement already satisfied: wandb>=0.13.5 in /opt/conda/lib/python3.10/site-packages (from transformer_lens) (0.15.8)\n",
      "Requirement already satisfied: datasets>=2.7.1 in /opt/conda/lib/python3.10/site-packages (from transformer_lens) (2.14.4)\n",
      "Requirement already satisfied: beartype<0.15.0,>=0.14.1 in /opt/conda/lib/python3.10/site-packages (from transformer_lens) (0.14.1)\n",
      "Requirement already satisfied: torch>=1.10 in /opt/conda/lib/python3.10/site-packages (from transformer_lens) (2.0.1)\n",
      "Requirement already satisfied: jaxtyping>=0.2.11 in /opt/conda/lib/python3.10/site-packages (from transformer_lens) (0.2.20)\n",
      "Requirement already satisfied: transformers>=4.25.1 in /opt/conda/lib/python3.10/site-packages (from transformer_lens) (4.31.0)\n",
      "Requirement already satisfied: pandas>=1.1.5 in /opt/conda/lib/python3.10/site-packages (from transformer_lens) (2.0.3)\n",
      "Requirement already satisfied: numpy>=1.23 in /opt/conda/lib/python3.10/site-packages (from transformer_lens) (1.24.3)\n",
      "Requirement already satisfied: tqdm>=4.64.1 in /opt/conda/lib/python3.10/site-packages (from transformer_lens) (4.65.0)\n",
      "Requirement already satisfied: einops>=0.6.0 in /opt/conda/lib/python3.10/site-packages (from transformer_lens) (0.6.1)\n",
      "Requirement already satisfied: rich>=12.6.0 in /opt/conda/lib/python3.10/site-packages (from transformer_lens) (13.5.2)\n",
      "Requirement already satisfied: pyarrow>=8.0.0 in /opt/conda/lib/python3.10/site-packages (from datasets>=2.7.1->transformer_lens) (12.0.1)\n",
      "Requirement already satisfied: huggingface-hub<1.0.0,>=0.14.0 in /opt/conda/lib/python3.10/site-packages (from datasets>=2.7.1->transformer_lens) (0.16.4)\n",
      "Requirement already satisfied: multiprocess in /opt/conda/lib/python3.10/site-packages (from datasets>=2.7.1->transformer_lens) (0.70.15)\n",
      "Requirement already satisfied: dill<0.3.8,>=0.3.0 in /opt/conda/lib/python3.10/site-packages (from datasets>=2.7.1->transformer_lens) (0.3.7)\n",
      "Requirement already satisfied: pyyaml>=5.1 in /opt/conda/lib/python3.10/site-packages (from datasets>=2.7.1->transformer_lens) (6.0)\n",
      "Requirement already satisfied: xxhash in /opt/conda/lib/python3.10/site-packages (from datasets>=2.7.1->transformer_lens) (3.3.0)\n",
      "Requirement already satisfied: aiohttp in /opt/conda/lib/python3.10/site-packages (from datasets>=2.7.1->transformer_lens) (3.8.5)\n",
      "Requirement already satisfied: requests>=2.19.0 in /opt/conda/lib/python3.10/site-packages (from datasets>=2.7.1->transformer_lens) (2.29.0)\n",
      "Requirement already satisfied: packaging in /opt/conda/lib/python3.10/site-packages (from datasets>=2.7.1->transformer_lens) (23.0)\n",
      "Requirement already satisfied: fsspec[http]>=2021.11.1 in /opt/conda/lib/python3.10/site-packages (from datasets>=2.7.1->transformer_lens) (2023.6.0)\n",
      "Requirement already satisfied: typeguard>=2.13.3 in /opt/conda/lib/python3.10/site-packages (from jaxtyping>=0.2.11->transformer_lens) (4.1.1)\n",
      "Requirement already satisfied: typing-extensions>=3.7.4.1 in /opt/conda/lib/python3.10/site-packages (from jaxtyping>=0.2.11->transformer_lens) (4.7.1)\n",
      "Requirement already satisfied: pytz>=2020.1 in /opt/conda/lib/python3.10/site-packages (from pandas>=1.1.5->transformer_lens) (2022.7)\n",
      "Requirement already satisfied: python-dateutil>=2.8.2 in /opt/conda/lib/python3.10/site-packages (from pandas>=1.1.5->transformer_lens) (2.8.2)\n",
      "Requirement already satisfied: tzdata>=2022.1 in /opt/conda/lib/python3.10/site-packages (from pandas>=1.1.5->transformer_lens) (2023.3)\n",
      "Requirement already satisfied: markdown-it-py>=2.2.0 in /opt/conda/lib/python3.10/site-packages (from rich>=12.6.0->transformer_lens) (3.0.0)\n",
      "Requirement already satisfied: pygments<3.0.0,>=2.13.0 in /opt/conda/lib/python3.10/site-packages (from rich>=12.6.0->transformer_lens) (2.15.1)\n",
      "Requirement already satisfied: filelock in /opt/conda/lib/python3.10/site-packages (from torch>=1.10->transformer_lens) (3.9.0)\n",
      "Requirement already satisfied: sympy in /opt/conda/lib/python3.10/site-packages (from torch>=1.10->transformer_lens) (1.12)\n",
      "Requirement already satisfied: networkx in /opt/conda/lib/python3.10/site-packages (from torch>=1.10->transformer_lens) (3.1)\n",
      "Requirement already satisfied: jinja2 in /opt/conda/lib/python3.10/site-packages (from torch>=1.10->transformer_lens) (3.1.2)\n",
      "Requirement already satisfied: safetensors>=0.3.1 in /opt/conda/lib/python3.10/site-packages (from transformers>=4.25.1->transformer_lens) (0.3.2)\n",
      "Requirement already satisfied: regex!=2019.12.17 in /opt/conda/lib/python3.10/site-packages (from transformers>=4.25.1->transformer_lens) (2023.8.8)\n",
      "Requirement already satisfied: tokenizers!=0.11.3,<0.14,>=0.11.1 in /opt/conda/lib/python3.10/site-packages (from transformers>=4.25.1->transformer_lens) (0.13.3)\n",
      "Requirement already satisfied: docker-pycreds>=0.4.0 in /opt/conda/lib/python3.10/site-packages (from wandb>=0.13.5->transformer_lens) (0.4.0)\n",
      "Requirement already satisfied: pathtools in /opt/conda/lib/python3.10/site-packages (from wandb>=0.13.5->transformer_lens) (0.1.2)\n",
      "Requirement already satisfied: protobuf!=4.21.0,<5,>=3.19.0 in /opt/conda/lib/python3.10/site-packages (from wandb>=0.13.5->transformer_lens) (4.24.0)\n",
      "Requirement already satisfied: setuptools in /opt/conda/lib/python3.10/site-packages (from wandb>=0.13.5->transformer_lens) (65.6.3)\n",
      "Requirement already satisfied: sentry-sdk>=1.0.0 in /opt/conda/lib/python3.10/site-packages (from wandb>=0.13.5->transformer_lens) (1.29.2)\n",
      "Requirement already satisfied: appdirs>=1.4.3 in /opt/conda/lib/python3.10/site-packages (from wandb>=0.13.5->transformer_lens) (1.4.4)\n",
      "Requirement already satisfied: GitPython!=3.1.29,>=1.0.0 in /opt/conda/lib/python3.10/site-packages (from wandb>=0.13.5->transformer_lens) (3.1.32)\n",
      "Requirement already satisfied: psutil>=5.0.0 in /opt/conda/lib/python3.10/site-packages (from wandb>=0.13.5->transformer_lens) (5.9.0)\n",
      "Requirement already satisfied: setproctitle in /opt/conda/lib/python3.10/site-packages (from wandb>=0.13.5->transformer_lens) (1.3.2)\n",
      "Requirement already satisfied: Click!=8.0.0,>=7.1 in /opt/conda/lib/python3.10/site-packages (from wandb>=0.13.5->transformer_lens) (8.1.6)\n",
      "Requirement already satisfied: six>=1.4.0 in /opt/conda/lib/python3.10/site-packages (from docker-pycreds>=0.4.0->wandb>=0.13.5->transformer_lens) (1.16.0)\n",
      "Requirement already satisfied: attrs>=17.3.0 in /opt/conda/lib/python3.10/site-packages (from aiohttp->datasets>=2.7.1->transformer_lens) (23.1.0)\n",
      "Requirement already satisfied: async-timeout<5.0,>=4.0.0a3 in /opt/conda/lib/python3.10/site-packages (from aiohttp->datasets>=2.7.1->transformer_lens) (4.0.3)\n",
      "Requirement already satisfied: yarl<2.0,>=1.0 in /opt/conda/lib/python3.10/site-packages (from aiohttp->datasets>=2.7.1->transformer_lens) (1.9.2)\n",
      "Requirement already satisfied: multidict<7.0,>=4.5 in /opt/conda/lib/python3.10/site-packages (from aiohttp->datasets>=2.7.1->transformer_lens) (6.0.4)\n",
      "Requirement already satisfied: frozenlist>=1.1.1 in /opt/conda/lib/python3.10/site-packages (from aiohttp->datasets>=2.7.1->transformer_lens) (1.4.0)\n",
      "Requirement already satisfied: charset-normalizer<4.0,>=2.0 in /opt/conda/lib/python3.10/site-packages (from aiohttp->datasets>=2.7.1->transformer_lens) (2.0.4)\n",
      "Requirement already satisfied: aiosignal>=1.1.2 in /opt/conda/lib/python3.10/site-packages (from aiohttp->datasets>=2.7.1->transformer_lens) (1.3.1)\n",
      "Requirement already satisfied: gitdb<5,>=4.0.1 in /opt/conda/lib/python3.10/site-packages (from GitPython!=3.1.29,>=1.0.0->wandb>=0.13.5->transformer_lens) (4.0.10)\n",
      "Requirement already satisfied: mdurl~=0.1 in /opt/conda/lib/python3.10/site-packages (from markdown-it-py>=2.2.0->rich>=12.6.0->transformer_lens) (0.1.2)\n",
      "Requirement already satisfied: urllib3<1.27,>=1.21.1 in /opt/conda/lib/python3.10/site-packages (from requests>=2.19.0->datasets>=2.7.1->transformer_lens) (1.26.15)\n",
      "Requirement already satisfied: certifi>=2017.4.17 in /opt/conda/lib/python3.10/site-packages (from requests>=2.19.0->datasets>=2.7.1->transformer_lens) (2023.5.7)\n",
      "Requirement already satisfied: idna<4,>=2.5 in /opt/conda/lib/python3.10/site-packages (from requests>=2.19.0->datasets>=2.7.1->transformer_lens) (3.4)\n",
      "Requirement already satisfied: MarkupSafe>=2.0 in /opt/conda/lib/python3.10/site-packages (from jinja2->torch>=1.10->transformer_lens) (2.1.1)\n",
      "Requirement already satisfied: mpmath>=0.19 in /opt/conda/lib/python3.10/site-packages (from sympy->torch>=1.10->transformer_lens) (1.3.0)\n",
      "Requirement already satisfied: smmap<6,>=3.0.1 in /opt/conda/lib/python3.10/site-packages (from gitdb<5,>=4.0.1->GitPython!=3.1.29,>=1.0.0->wandb>=0.13.5->transformer_lens) (5.0.0)\n",
      "\u001b[33mWARNING: Running pip as the 'root' user can result in broken permissions and conflicting behaviour with the system package manager. It is recommended to use a virtual environment instead: https://pip.pypa.io/warnings/venv\u001b[0m\u001b[33m\n",
      "\u001b[0mRequirement already satisfied: torch in /opt/conda/lib/python3.10/site-packages (2.0.1)\n",
      "Requirement already satisfied: filelock in /opt/conda/lib/python3.10/site-packages (from torch) (3.9.0)\n",
      "Requirement already satisfied: typing-extensions in /opt/conda/lib/python3.10/site-packages (from torch) (4.7.1)\n",
      "Requirement already satisfied: sympy in /opt/conda/lib/python3.10/site-packages (from torch) (1.12)\n",
      "Requirement already satisfied: networkx in /opt/conda/lib/python3.10/site-packages (from torch) (3.1)\n",
      "Requirement already satisfied: jinja2 in /opt/conda/lib/python3.10/site-packages (from torch) (3.1.2)\n",
      "Requirement already satisfied: MarkupSafe>=2.0 in /opt/conda/lib/python3.10/site-packages (from jinja2->torch) (2.1.1)\n",
      "Requirement already satisfied: mpmath>=0.19 in /opt/conda/lib/python3.10/site-packages (from sympy->torch) (1.3.0)\n",
      "\u001b[33mWARNING: Running pip as the 'root' user can result in broken permissions and conflicting behaviour with the system package manager. It is recommended to use a virtual environment instead: https://pip.pypa.io/warnings/venv\u001b[0m\u001b[33m\n",
      "\u001b[0mRequirement already satisfied: numpy in /opt/conda/lib/python3.10/site-packages (1.24.3)\n",
      "\u001b[33mWARNING: Running pip as the 'root' user can result in broken permissions and conflicting behaviour with the system package manager. It is recommended to use a virtual environment instead: https://pip.pypa.io/warnings/venv\u001b[0m\u001b[33m\n",
      "\u001b[0mRequirement already satisfied: matplotlib in /opt/conda/lib/python3.10/site-packages (3.7.2)\n",
      "Requirement already satisfied: numpy>=1.20 in /opt/conda/lib/python3.10/site-packages (from matplotlib) (1.24.3)\n",
      "Requirement already satisfied: cycler>=0.10 in /opt/conda/lib/python3.10/site-packages (from matplotlib) (0.11.0)\n",
      "Requirement already satisfied: kiwisolver>=1.0.1 in /opt/conda/lib/python3.10/site-packages (from matplotlib) (1.4.4)\n",
      "Requirement already satisfied: fonttools>=4.22.0 in /opt/conda/lib/python3.10/site-packages (from matplotlib) (4.42.0)\n",
      "Requirement already satisfied: pillow>=6.2.0 in /opt/conda/lib/python3.10/site-packages (from matplotlib) (9.4.0)\n",
      "Requirement already satisfied: contourpy>=1.0.1 in /opt/conda/lib/python3.10/site-packages (from matplotlib) (1.1.0)\n",
      "Requirement already satisfied: pyparsing<3.1,>=2.3.1 in /opt/conda/lib/python3.10/site-packages (from matplotlib) (3.0.9)\n",
      "Requirement already satisfied: python-dateutil>=2.7 in /opt/conda/lib/python3.10/site-packages (from matplotlib) (2.8.2)\n",
      "Requirement already satisfied: packaging>=20.0 in /opt/conda/lib/python3.10/site-packages (from matplotlib) (23.0)\n",
      "Requirement already satisfied: six>=1.5 in /opt/conda/lib/python3.10/site-packages (from python-dateutil>=2.7->matplotlib) (1.16.0)\n",
      "\u001b[33mWARNING: Running pip as the 'root' user can result in broken permissions and conflicting behaviour with the system package manager. It is recommended to use a virtual environment instead: https://pip.pypa.io/warnings/venv\u001b[0m\u001b[33m\n",
      "\u001b[0mRequirement already satisfied: einops in /opt/conda/lib/python3.10/site-packages (0.6.1)\n",
      "\u001b[33mWARNING: Running pip as the 'root' user can result in broken permissions and conflicting behaviour with the system package manager. It is recommended to use a virtual environment instead: https://pip.pypa.io/warnings/venv\u001b[0m\u001b[33m\n",
      "\u001b[0mRequirement already satisfied: dataclasses in /opt/conda/lib/python3.10/site-packages (0.6)\n",
      "\u001b[33mWARNING: Running pip as the 'root' user can result in broken permissions and conflicting behaviour with the system package manager. It is recommended to use a virtual environment instead: https://pip.pypa.io/warnings/venv\u001b[0m\u001b[33m\n",
      "\u001b[0mRequirement already satisfied: datasets in /opt/conda/lib/python3.10/site-packages (2.14.4)\n",
      "Requirement already satisfied: requests>=2.19.0 in /opt/conda/lib/python3.10/site-packages (from datasets) (2.29.0)\n",
      "Requirement already satisfied: pyarrow>=8.0.0 in /opt/conda/lib/python3.10/site-packages (from datasets) (12.0.1)\n",
      "Requirement already satisfied: dill<0.3.8,>=0.3.0 in /opt/conda/lib/python3.10/site-packages (from datasets) (0.3.7)\n",
      "Requirement already satisfied: fsspec[http]>=2021.11.1 in /opt/conda/lib/python3.10/site-packages (from datasets) (2023.6.0)\n",
      "Requirement already satisfied: pandas in /opt/conda/lib/python3.10/site-packages (from datasets) (2.0.3)\n",
      "Requirement already satisfied: multiprocess in /opt/conda/lib/python3.10/site-packages (from datasets) (0.70.15)\n",
      "Requirement already satisfied: pyyaml>=5.1 in /opt/conda/lib/python3.10/site-packages (from datasets) (6.0)\n",
      "Requirement already satisfied: huggingface-hub<1.0.0,>=0.14.0 in /opt/conda/lib/python3.10/site-packages (from datasets) (0.16.4)\n",
      "Requirement already satisfied: xxhash in /opt/conda/lib/python3.10/site-packages (from datasets) (3.3.0)\n",
      "Requirement already satisfied: tqdm>=4.62.1 in /opt/conda/lib/python3.10/site-packages (from datasets) (4.65.0)\n",
      "Requirement already satisfied: aiohttp in /opt/conda/lib/python3.10/site-packages (from datasets) (3.8.5)\n",
      "Requirement already satisfied: packaging in /opt/conda/lib/python3.10/site-packages (from datasets) (23.0)\n",
      "Requirement already satisfied: numpy>=1.17 in /opt/conda/lib/python3.10/site-packages (from datasets) (1.24.3)\n",
      "Requirement already satisfied: yarl<2.0,>=1.0 in /opt/conda/lib/python3.10/site-packages (from aiohttp->datasets) (1.9.2)\n",
      "Requirement already satisfied: charset-normalizer<4.0,>=2.0 in /opt/conda/lib/python3.10/site-packages (from aiohttp->datasets) (2.0.4)\n",
      "Requirement already satisfied: aiosignal>=1.1.2 in /opt/conda/lib/python3.10/site-packages (from aiohttp->datasets) (1.3.1)\n",
      "Requirement already satisfied: multidict<7.0,>=4.5 in /opt/conda/lib/python3.10/site-packages (from aiohttp->datasets) (6.0.4)\n",
      "Requirement already satisfied: attrs>=17.3.0 in /opt/conda/lib/python3.10/site-packages (from aiohttp->datasets) (23.1.0)\n",
      "Requirement already satisfied: async-timeout<5.0,>=4.0.0a3 in /opt/conda/lib/python3.10/site-packages (from aiohttp->datasets) (4.0.3)\n",
      "Requirement already satisfied: frozenlist>=1.1.1 in /opt/conda/lib/python3.10/site-packages (from aiohttp->datasets) (1.4.0)\n",
      "Requirement already satisfied: typing-extensions>=3.7.4.3 in /opt/conda/lib/python3.10/site-packages (from huggingface-hub<1.0.0,>=0.14.0->datasets) (4.7.1)\n",
      "Requirement already satisfied: filelock in /opt/conda/lib/python3.10/site-packages (from huggingface-hub<1.0.0,>=0.14.0->datasets) (3.9.0)\n",
      "Requirement already satisfied: certifi>=2017.4.17 in /opt/conda/lib/python3.10/site-packages (from requests>=2.19.0->datasets) (2023.5.7)\n",
      "Requirement already satisfied: idna<4,>=2.5 in /opt/conda/lib/python3.10/site-packages (from requests>=2.19.0->datasets) (3.4)\n",
      "Requirement already satisfied: urllib3<1.27,>=1.21.1 in /opt/conda/lib/python3.10/site-packages (from requests>=2.19.0->datasets) (1.26.15)\n",
      "Requirement already satisfied: tzdata>=2022.1 in /opt/conda/lib/python3.10/site-packages (from pandas->datasets) (2023.3)\n",
      "Requirement already satisfied: python-dateutil>=2.8.2 in /opt/conda/lib/python3.10/site-packages (from pandas->datasets) (2.8.2)\n",
      "Requirement already satisfied: pytz>=2020.1 in /opt/conda/lib/python3.10/site-packages (from pandas->datasets) (2022.7)\n",
      "Requirement already satisfied: six>=1.5 in /opt/conda/lib/python3.10/site-packages (from python-dateutil>=2.8.2->pandas->datasets) (1.16.0)\n",
      "\u001b[33mWARNING: Running pip as the 'root' user can result in broken permissions and conflicting behaviour with the system package manager. It is recommended to use a virtual environment instead: https://pip.pypa.io/warnings/venv\u001b[0m\u001b[33m\n",
      "\u001b[0mRequirement already satisfied: IPython in /opt/conda/lib/python3.10/site-packages (8.12.0)\n",
      "Requirement already satisfied: decorator in /opt/conda/lib/python3.10/site-packages (from IPython) (5.1.1)\n",
      "Requirement already satisfied: pygments>=2.4.0 in /opt/conda/lib/python3.10/site-packages (from IPython) (2.15.1)\n",
      "Requirement already satisfied: backcall in /opt/conda/lib/python3.10/site-packages (from IPython) (0.2.0)\n",
      "Requirement already satisfied: matplotlib-inline in /opt/conda/lib/python3.10/site-packages (from IPython) (0.1.6)\n",
      "Requirement already satisfied: stack-data in /opt/conda/lib/python3.10/site-packages (from IPython) (0.2.0)\n",
      "Requirement already satisfied: pexpect>4.3 in /opt/conda/lib/python3.10/site-packages (from IPython) (4.8.0)\n",
      "Requirement already satisfied: traitlets>=5 in /opt/conda/lib/python3.10/site-packages (from IPython) (5.7.1)\n",
      "Requirement already satisfied: jedi>=0.16 in /opt/conda/lib/python3.10/site-packages (from IPython) (0.18.1)\n",
      "Requirement already satisfied: pickleshare in /opt/conda/lib/python3.10/site-packages (from IPython) (0.7.5)\n",
      "Requirement already satisfied: prompt-toolkit!=3.0.37,<3.1.0,>=3.0.30 in /opt/conda/lib/python3.10/site-packages (from IPython) (3.0.36)\n",
      "Requirement already satisfied: parso<0.9.0,>=0.8.0 in /opt/conda/lib/python3.10/site-packages (from jedi>=0.16->IPython) (0.8.3)\n",
      "Requirement already satisfied: ptyprocess>=0.5 in /opt/conda/lib/python3.10/site-packages (from pexpect>4.3->IPython) (0.7.0)\n",
      "Requirement already satisfied: wcwidth in /opt/conda/lib/python3.10/site-packages (from prompt-toolkit!=3.0.37,<3.1.0,>=3.0.30->IPython) (0.2.5)\n",
      "Requirement already satisfied: executing in /opt/conda/lib/python3.10/site-packages (from stack-data->IPython) (0.8.3)\n",
      "Requirement already satisfied: pure-eval in /opt/conda/lib/python3.10/site-packages (from stack-data->IPython) (0.2.2)\n",
      "Requirement already satisfied: asttokens in /opt/conda/lib/python3.10/site-packages (from stack-data->IPython) (2.0.5)\n",
      "Requirement already satisfied: six in /opt/conda/lib/python3.10/site-packages (from asttokens->stack-data->IPython) (1.16.0)\n",
      "\u001b[33mWARNING: Running pip as the 'root' user can result in broken permissions and conflicting behaviour with the system package manager. It is recommended to use a virtual environment instead: https://pip.pypa.io/warnings/venv\u001b[0m\u001b[33m\n",
      "\u001b[0mRequirement already satisfied: circuitsvis in /opt/conda/lib/python3.10/site-packages (1.40.1)\n",
      "Requirement already satisfied: numpy<2.0,>=1.23 in /opt/conda/lib/python3.10/site-packages (from circuitsvis) (1.24.3)\n",
      "Requirement already satisfied: importlib-metadata<6.0.0,>=5.1.0 in /opt/conda/lib/python3.10/site-packages (from circuitsvis) (5.2.0)\n",
      "Requirement already satisfied: torch>=1.10 in /opt/conda/lib/python3.10/site-packages (from circuitsvis) (2.0.1)\n",
      "Requirement already satisfied: zipp>=0.5 in /opt/conda/lib/python3.10/site-packages (from importlib-metadata<6.0.0,>=5.1.0->circuitsvis) (3.16.2)\n",
      "Requirement already satisfied: filelock in /opt/conda/lib/python3.10/site-packages (from torch>=1.10->circuitsvis) (3.9.0)\n",
      "Requirement already satisfied: typing-extensions in /opt/conda/lib/python3.10/site-packages (from torch>=1.10->circuitsvis) (4.7.1)\n",
      "Requirement already satisfied: sympy in /opt/conda/lib/python3.10/site-packages (from torch>=1.10->circuitsvis) (1.12)\n",
      "Requirement already satisfied: networkx in /opt/conda/lib/python3.10/site-packages (from torch>=1.10->circuitsvis) (3.1)\n",
      "Requirement already satisfied: jinja2 in /opt/conda/lib/python3.10/site-packages (from torch>=1.10->circuitsvis) (3.1.2)\n",
      "Requirement already satisfied: MarkupSafe>=2.0 in /opt/conda/lib/python3.10/site-packages (from jinja2->torch>=1.10->circuitsvis) (2.1.1)\n",
      "Requirement already satisfied: mpmath>=0.19 in /opt/conda/lib/python3.10/site-packages (from sympy->torch>=1.10->circuitsvis) (1.3.0)\n",
      "\u001b[33mWARNING: Running pip as the 'root' user can result in broken permissions and conflicting behaviour with the system package manager. It is recommended to use a virtual environment instead: https://pip.pypa.io/warnings/venv\u001b[0m\u001b[33m\n",
      "\u001b[0m"
     ]
    }
   ],
   "source": [
    "!pip install transformer_lens \n",
    "!pip install torch\n",
    "!pip install numpy\n",
    "!pip install matplotlib\n",
    "!pip install einops\n",
    "!pip install dataclasses\n",
    "!pip install datasets\n",
    "!pip install IPython\n",
    "!pip install circuitsvis\n",
    "\n"
   ]
  },
  {
   "cell_type": "code",
   "execution_count": 2,
   "id": "349589ce-1bb8-4ebc-a045-ce7946f3f577",
   "metadata": {},
   "outputs": [
    {
     "name": "stdout",
     "output_type": "stream",
     "text": [
      "Requirement already satisfied: torchopt in /opt/conda/lib/python3.10/site-packages (0.7.1)\n",
      "Requirement already satisfied: optree>=0.4.1 in /opt/conda/lib/python3.10/site-packages (from torchopt) (0.9.1)\n",
      "Requirement already satisfied: graphviz in /opt/conda/lib/python3.10/site-packages (from torchopt) (0.20.1)\n",
      "Requirement already satisfied: typing-extensions>=4.0.0 in /opt/conda/lib/python3.10/site-packages (from torchopt) (4.7.1)\n",
      "Requirement already satisfied: torch>=1.13 in /opt/conda/lib/python3.10/site-packages (from torchopt) (2.0.1)\n",
      "Requirement already satisfied: numpy in /opt/conda/lib/python3.10/site-packages (from torchopt) (1.24.3)\n",
      "Requirement already satisfied: filelock in /opt/conda/lib/python3.10/site-packages (from torch>=1.13->torchopt) (3.9.0)\n",
      "Requirement already satisfied: sympy in /opt/conda/lib/python3.10/site-packages (from torch>=1.13->torchopt) (1.12)\n",
      "Requirement already satisfied: networkx in /opt/conda/lib/python3.10/site-packages (from torch>=1.13->torchopt) (3.1)\n",
      "Requirement already satisfied: jinja2 in /opt/conda/lib/python3.10/site-packages (from torch>=1.13->torchopt) (3.1.2)\n",
      "Requirement already satisfied: MarkupSafe>=2.0 in /opt/conda/lib/python3.10/site-packages (from jinja2->torch>=1.13->torchopt) (2.1.1)\n",
      "Requirement already satisfied: mpmath>=0.19 in /opt/conda/lib/python3.10/site-packages (from sympy->torch>=1.13->torchopt) (1.3.0)\n",
      "\u001b[33mWARNING: Running pip as the 'root' user can result in broken permissions and conflicting behaviour with the system package manager. It is recommended to use a virtual environment instead: https://pip.pypa.io/warnings/venv\u001b[0m\u001b[33m\n",
      "\u001b[0mRequirement already satisfied: sklearn in /opt/conda/lib/python3.10/site-packages (0.0.post7)\n",
      "\u001b[33mWARNING: Running pip as the 'root' user can result in broken permissions and conflicting behaviour with the system package manager. It is recommended to use a virtual environment instead: https://pip.pypa.io/warnings/venv\u001b[0m\u001b[33m\n",
      "\u001b[0m"
     ]
    }
   ],
   "source": [
    "!pip install torchopt\n",
    "!pip install sklearn"
   ]
  },
  {
   "cell_type": "markdown",
   "id": "8b377617-0cb0-45d8-83be-f7c4d8fdacec",
   "metadata": {},
   "source": [
    "### Notebook setup stuff"
   ]
  },
  {
   "cell_type": "markdown",
   "id": "68475284-a33a-451a-a959-df630ccee358",
   "metadata": {},
   "source": [
    "This notebook lives in the `./interp_notebooks/` directory, which is not the same as the project root. We need to add the project root directory (`..`) to the path so that importing stuff works"
   ]
  },
  {
   "cell_type": "code",
   "execution_count": 3,
   "id": "10d1cc1b-b777-4930-aeb3-e4e155f97251",
   "metadata": {},
   "outputs": [],
   "source": [
    "import sys\n",
    "import os\n",
    "sys.path.insert(0, os.path.realpath('..'))"
   ]
  },
  {
   "cell_type": "markdown",
   "id": "d6316ea5-e8c6-490f-8d62-4880c4d1d6ac",
   "metadata": {},
   "source": [
    "### Imports"
   ]
  },
  {
   "cell_type": "markdown",
   "id": "8c188a10-5b7e-4fb1-9518-02cf16d566b5",
   "metadata": {},
   "source": [
    "Third-party libraries"
   ]
  },
  {
   "cell_type": "code",
   "execution_count": 4,
   "id": "d14bb792-48ee-4901-aae0-147402715369",
   "metadata": {},
   "outputs": [],
   "source": [
    "from transformer_lens import HookedTransformer\n",
    "import torch\n",
    "import numpy as np\n",
    "import matplotlib.pyplot as plt\n",
    "import einops\n",
    "from dataclasses import dataclass\n",
    "from datasets import Dataset, load_dataset\n",
    "from IPython.display import display, Markdown\n",
    "from circuitsvis.activations import text_neuron_activations\n",
    "from circuitsvis.tokens import colored_tokens\n",
    "from matplotlib.animation import FuncAnimation\n"
   ]
  },
  {
   "cell_type": "markdown",
   "id": "4d877ecd-a9e3-4ca4-a37b-cc59c7d8cc6c",
   "metadata": {},
   "source": [
    "Stuff specific to this repo"
   ]
  },
  {
   "cell_type": "code",
   "execution_count": 5,
   "id": "73c4e7e9-7248-429b-934c-3400e1c2c474",
   "metadata": {},
   "outputs": [],
   "source": [
    "from notebook_utils import (\n",
    "    hyperparams_match,\n",
    "    load_autoencoders,\n",
    "    get_dictionary_activations,\n",
    "    get_tokens_and_activations,\n",
    "    get_feature_datapoints,\n",
    "    get_neuron_activation,\n",
    "    ablate_text,\n",
    "    visualize_text,\n",
    "    ablate_feature_direction,\n",
    "    visualize_logit_diff\n",
    ")"
   ]
  },
  {
   "cell_type": "markdown",
   "id": "334f36e9-880e-479c-842f-da6df6a0c08b",
   "metadata": {},
   "source": [
    "### Helper functions"
   ]
  },
  {
   "cell_type": "code",
   "execution_count": 6,
   "id": "5f476008-f6a3-4bbb-a199-94ff1f5999d1",
   "metadata": {},
   "outputs": [],
   "source": [
    "def feature_attention_alignment_scores(features, attn_param):\n",
    "    # features.shape == (d_dict, d_model)\n",
    "    # so axis 1 is d_model\n",
    "    normed_features   = features / torch.linalg.norm(features, axis=1, keepdim=True)\n",
    "    # attn_param.shape == (d_model, d_attn)\n",
    "    # so axis 0 is d_model\n",
    "    normed_attn_param = attn_param / torch.linalg.norm(attn_param, axis=0, keepdim=True)\n",
    "    cos_sims = torch.einsum(\n",
    "        'an, nb -> ab',\n",
    "        normed_features,\n",
    "        normed_attn_param\n",
    "    )\n",
    "    scores = (cos_sims**2).sum(axis=1)\n",
    "    return scores\n",
    "    \n",
    "\n",
    "\n",
    "def feature_transformation_by_head(features,attn_param):\n",
    "\n",
    "    #normed_features   = features / torch.linalg.norm(features, axis=1, keepdim=True)\n",
    "    #normed_attn_param = attn_param / torch.linalg.norm(attn_param, axis=1, keepdim=True)\n",
    "    # Create a linear transformation matrix\n",
    "    transformed_features = torch.einsum(\n",
    "        'an, nb -> ab',\n",
    "        features,\n",
    "        attn_param\n",
    "    )\n",
    "    return transformed_features"
   ]
  },
  {
   "cell_type": "markdown",
   "id": "817c21d5-e90b-49e8-bde8-c9e69ebdddce",
   "metadata": {},
   "source": [
    "### Setup"
   ]
  },
  {
   "cell_type": "markdown",
   "id": "cb0fba7e-76f9-468d-871e-dcaf8ff733b8",
   "metadata": {},
   "source": [
    "#### Configuration"
   ]
  },
  {
   "cell_type": "code",
   "execution_count": 7,
   "id": "c05ef86d-46ca-4037-bccc-6f1bfda42ef1",
   "metadata": {},
   "outputs": [],
   "source": [
    "model_name = 'EleutherAI/Pythia-70m-deduped'\n",
    "dataset_name = \"NeelNanda/pile-10k\"\n",
    "token_amount=25\n",
    "device = 'cuda'"
   ]
  },
  {
   "cell_type": "markdown",
   "id": "4a64a925-3d2b-4591-9c30-41eac0d2225d",
   "metadata": {},
   "source": [
    "#### Load the model (from HF or cache)"
   ]
  },
  {
   "cell_type": "code",
   "execution_count": 8,
   "id": "c62da29d-d4a6-4049-bc6c-13ce1d4f26c4",
   "metadata": {},
   "outputs": [
    {
     "name": "stderr",
     "output_type": "stream",
     "text": [
      "Using pad_token, but it is not set yet.\n"
     ]
    },
    {
     "name": "stdout",
     "output_type": "stream",
     "text": [
      "Loaded pretrained model EleutherAI/Pythia-70m-deduped into HookedTransformer\n"
     ]
    }
   ],
   "source": [
    "model = HookedTransformer.from_pretrained(model_name, device=device)"
   ]
  },
  {
   "cell_type": "markdown",
   "id": "b473501b-0d57-4d16-aa32-0523c5eac7d6",
   "metadata": {},
   "source": [
    "#### Load the autoencoder from disk"
   ]
  },
  {
   "cell_type": "code",
   "execution_count": 9,
   "id": "309db518-4d94-421a-abca-1bca056d3dab",
   "metadata": {},
   "outputs": [],
   "source": [
    "hyperparams_by_path = {\n",
    "    f'outputs/{model.lower().replace(\"/\", \"--\")}/sweep_residual/chunks/{chunk:02d}/layer_{layer:d}/dict_ratio_{dict_ratio:d}/learned_dicts.pt': {\n",
    "        \"chunk\": chunk,\n",
    "        \"layer\": layer,\n",
    "        \"cache_name\": f\"blocks.{layer}.hook_resid_post\",\n",
    "        \"dict_ratio\": dict_ratio,\n",
    "        \"model\": model,\n",
    "    }\n",
    "    for model, chunks in [\n",
    "        (\"EleutherAI/Pythia-70m-deduped\", [0, 5, 10, 15, 20, 25, 29]),\n",
    "        (\"roneneldan/TinyStories-33m\",    [0, 2, 4, 6, 8, 10, 12, 14, 16, 18, 20, 22, 24, 26, 28, 30, 32, 34, 36, 38, 40, 42, 44, 46, 48, 49]),\n",
    "    ]\n",
    "    for chunk in chunks\n",
    "    for layer in [0, 1, 2, 3, 4, 5]\n",
    "    for dict_ratio in [1, 2, 4, 8]\n",
    "}\n",
    "\n",
    "desired_hyperparams = {\n",
    "    \"model\": lambda model: model == \"EleutherAI/Pythia-70m-deduped\",\n",
    "    \"chunk\": lambda chunk: chunk == 10,\n",
    "    \"layer\": lambda layer: layer == 2,\n",
    "    \"dict_ratio\": lambda dict_ratio: dict_ratio in [2],\n",
    "    \"l1_alpha\": lambda l1_alpha: abs(l1_alpha - 0.002) < 1e-6,\n",
    "}"
   ]
  },
  {
   "cell_type": "code",
   "execution_count": 10,
   "id": "5ef6f095-d738-41ad-976a-8a63eddf95d0",
   "metadata": {
    "scrolled": true
   },
   "outputs": [
    {
     "name": "stdout",
     "output_type": "stream",
     "text": [
      "Here is the first feature\n",
      "tensor([-5.6310e-03, -3.3202e-02, -9.6583e-03,  5.4427e-02, -5.4795e-02,\n",
      "         6.5799e-02, -1.6796e-02, -7.9475e-04, -7.3396e-02,  2.4690e-02,\n",
      "        -3.1550e-02,  9.2962e-02, -4.8443e-02,  5.1900e-02, -9.9166e-03,\n",
      "        -1.5936e-02, -3.1179e-02,  2.6412e-02,  7.5457e-02,  1.8491e-02,\n",
      "        -4.1156e-02, -9.3501e-03, -1.6938e-02, -9.5360e-02, -2.7275e-02,\n",
      "        -6.7445e-02, -3.9722e-03,  3.6336e-02, -2.1960e-03,  1.1202e-03,\n",
      "         2.7792e-02, -3.8507e-02, -4.4557e-02,  3.3584e-03, -1.9618e-02,\n",
      "         4.5644e-04, -5.0996e-02, -1.8884e-02, -1.5286e-02, -5.7225e-02,\n",
      "        -1.4876e-02, -1.3129e-02,  4.3383e-02, -9.1134e-03,  3.4010e-03,\n",
      "        -8.2100e-02, -2.4933e-02, -5.0832e-03,  1.4151e-01, -1.4162e-02,\n",
      "        -2.8902e-02,  1.3329e-02,  2.8712e-03, -6.1419e-02, -2.6935e-02,\n",
      "         3.5120e-02, -1.4668e-02,  4.3477e-02,  7.5498e-04, -8.1790e-03,\n",
      "        -3.2856e-02, -8.3711e-04,  9.7525e-04, -4.2273e-02, -4.2812e-02,\n",
      "         5.7420e-02,  1.2390e-02,  9.2661e-02,  9.9589e-02,  2.5480e-03,\n",
      "        -2.5349e-03,  9.4333e-02,  3.7072e-02,  1.5297e-02, -2.1623e-02,\n",
      "        -1.5951e-02, -9.1006e-04, -1.7847e-02,  3.9192e-02,  3.3605e-02,\n",
      "         1.0584e-02,  1.7046e-02, -4.7281e-02, -2.7094e-02, -2.3634e-02,\n",
      "         2.7948e-02,  3.9134e-02, -6.5019e-02,  2.1533e-02, -2.3972e-02,\n",
      "         3.8857e-03, -3.0828e-02, -4.6758e-02,  7.5734e-02, -3.2827e-02,\n",
      "         2.0443e-02,  1.4855e-03,  1.1666e-01,  4.5600e-02, -4.5423e-02,\n",
      "        -5.9572e-02, -2.7775e-02, -2.4891e-02,  3.6051e-02, -5.4514e-02,\n",
      "        -8.2765e-02, -3.2237e-03,  4.9303e-02, -4.9800e-03, -3.3168e-02,\n",
      "        -3.7247e-02,  4.5598e-02, -1.3741e-02, -1.3098e-02, -5.9889e-03,\n",
      "        -2.6049e-02, -2.3433e-02, -4.0378e-02, -4.7812e-02, -1.7268e-02,\n",
      "         2.3749e-02, -1.0721e-02, -5.6083e-02,  3.5194e-02, -1.5775e-02,\n",
      "         1.8774e-02, -4.4401e-03, -3.1415e-02,  3.1056e-02,  6.4088e-02,\n",
      "        -5.3621e-02, -2.2737e-02,  2.1946e-03,  2.8576e-02,  5.0748e-02,\n",
      "         8.8959e-02, -2.5991e-02, -1.9137e-02, -8.0783e-02, -5.1914e-02,\n",
      "        -4.9856e-02, -6.4345e-02,  1.9013e-02, -1.1026e-02,  1.4913e-02,\n",
      "         9.5502e-03, -2.1158e-02,  4.8745e-02,  2.5080e-02, -5.3124e-02,\n",
      "         4.7755e-03, -5.3712e-03,  2.2317e-03,  1.6045e-03, -3.8244e-02,\n",
      "        -9.6058e-02, -5.1224e-02, -4.7891e-03,  4.3893e-02,  5.2161e-02,\n",
      "         5.9777e-03, -5.4709e-02, -1.8823e-02,  4.2841e-02, -3.5683e-02,\n",
      "        -8.5043e-03, -4.7270e-02, -4.9831e-03, -2.0439e-02,  9.3637e-03,\n",
      "        -4.1248e-02, -2.0628e-02, -5.2251e-02, -5.7453e-02, -2.3802e-03,\n",
      "        -3.4044e-02,  5.7643e-04, -5.3164e-03, -2.1900e-03, -5.1120e-02,\n",
      "        -1.1431e-03, -1.9784e-02, -2.4922e-02, -4.0582e-02, -7.0120e-02,\n",
      "        -6.7476e-02, -5.0609e-02, -4.5556e-02, -9.5073e-04,  7.1412e-02,\n",
      "         3.9755e-03,  2.5269e-02, -3.6004e-02,  5.5705e-02, -2.9762e-02,\n",
      "        -1.7784e-02,  1.6492e-02,  4.8357e-03,  2.7623e-02, -2.4144e-02,\n",
      "        -3.5626e-02,  1.3594e-03, -1.1637e-02,  3.0281e-02, -1.1691e-01,\n",
      "        -8.1481e-03, -3.3489e-02,  2.3601e-02,  1.4601e-02, -2.4114e-02,\n",
      "        -2.4005e-02, -4.4639e-02,  5.0828e-02,  8.5175e-02,  3.3801e-03,\n",
      "         4.5540e-04, -3.1773e-02,  8.2024e-03, -3.6110e-02, -5.5940e-04,\n",
      "         4.6056e-02, -7.2037e-02, -3.2206e-02,  4.3231e-02, -1.9904e-02,\n",
      "        -3.2478e-02, -4.8544e-02,  1.4838e-03, -4.7509e-02, -1.6892e-02,\n",
      "        -2.1602e-02,  7.0124e-02,  5.1324e-02, -1.2192e-02,  8.5213e-02,\n",
      "         1.3642e-01, -1.8794e-02, -9.3238e-02,  7.5662e-02, -9.4296e-02,\n",
      "        -5.2047e-02, -3.4024e-02, -5.3527e-02, -7.6759e-02, -4.3976e-02,\n",
      "        -4.1883e-02,  5.8886e-02, -6.7600e-02, -6.0902e-02,  1.8012e-02,\n",
      "        -2.7110e-02, -4.0513e-02,  7.2582e-02, -1.0893e-01,  1.9356e-02,\n",
      "         2.9204e-02,  3.6704e-02,  9.6632e-03,  8.7233e-03,  3.7093e-02,\n",
      "         1.9746e-02, -4.3430e-02,  8.0740e-03, -5.2466e-02,  3.6002e-02,\n",
      "        -6.8915e-02,  2.7024e-03, -4.7646e-02, -5.5561e-02, -2.9894e-02,\n",
      "        -5.1151e-02,  1.4035e-02,  9.4406e-02,  4.8045e-02, -2.3149e-02,\n",
      "        -5.6822e-02,  1.4082e-01, -9.8049e-03, -1.0757e-02, -1.9743e-02,\n",
      "        -3.3667e-02, -3.3913e-03, -1.7354e-02, -1.9508e-02, -1.0362e-03,\n",
      "        -2.4630e-02, -1.2383e-02,  1.7780e-02, -3.9314e-02, -4.2426e-02,\n",
      "        -3.1639e-02, -4.9326e-02,  4.7610e-02, -3.6728e-02,  1.2226e-02,\n",
      "         3.2781e-03, -5.9981e-02,  1.3705e-02,  5.5658e-02, -2.3849e-02,\n",
      "         4.4188e-02,  1.8312e-02,  5.7117e-02, -6.8392e-03,  1.8109e-02,\n",
      "         6.2592e-03,  6.6990e-02,  8.2570e-03, -4.7439e-02, -6.3574e-02,\n",
      "         6.3832e-02,  3.1974e-02,  1.4365e-01,  5.3902e-02,  7.3643e-03,\n",
      "        -3.7802e-02, -7.0900e-03,  9.0909e-02, -2.6990e-02,  5.9921e-03,\n",
      "         1.3338e-02,  2.6878e-02, -2.6105e-02, -4.0572e-02,  1.4279e-02,\n",
      "         8.4602e-02,  3.4196e-02, -2.9620e-02,  1.9122e-02, -6.6376e-02,\n",
      "        -5.0381e-02, -3.8071e-02, -4.7366e-02, -1.4860e-02, -6.6398e-02,\n",
      "        -2.8703e-02, -1.1300e-02,  2.0327e-02, -1.2468e-02, -2.8357e-02,\n",
      "         5.7616e-03, -5.9947e-02, -5.7589e-02, -3.5126e-02, -1.1440e-02,\n",
      "         2.9354e-02,  2.0209e-02, -5.5147e-02, -5.2244e-02, -4.6877e-02,\n",
      "        -6.7763e-02, -6.8244e-02, -5.7297e-02, -3.4268e-03, -5.0556e-02,\n",
      "        -6.3857e-02, -5.0533e-02,  4.1976e-02,  4.8927e-02, -4.1129e-02,\n",
      "        -6.2719e-02,  4.5863e-02, -6.3390e-03,  3.1841e-02, -1.4885e-02,\n",
      "        -3.0827e-02, -1.8623e-02,  6.3194e-02, -3.3335e-02, -3.6696e-02,\n",
      "        -3.4047e-02, -4.6696e-02,  6.2869e-02, -5.5221e-03, -5.8251e-02,\n",
      "         4.3542e-02,  1.3392e-03,  8.1111e-02, -3.9887e-02,  4.7612e-03,\n",
      "         3.3262e-02, -1.2425e-02,  1.0978e-01, -5.2996e-02,  2.8289e-02,\n",
      "        -2.3769e-02, -2.1132e-02,  3.7193e-02,  2.2492e-02, -6.4755e-03,\n",
      "         3.4000e-02,  1.2053e-01, -1.2791e-02, -4.1481e-02, -1.5984e-02,\n",
      "         1.0683e-01, -3.5014e-02, -2.3263e-02,  3.2718e-03,  1.5491e-02,\n",
      "         2.8059e-02, -5.8564e-02, -5.7040e-02, -1.6723e-02,  1.0056e-02,\n",
      "        -2.9022e-02, -4.1671e-03, -3.4037e-02, -3.2995e-02,  7.3178e-02,\n",
      "        -1.7820e-02, -7.6831e-03, -7.8854e-02, -1.8449e-02,  8.3954e-02,\n",
      "         1.2382e-02,  1.2482e-01,  1.2212e-01,  3.2149e-02,  3.9671e-02,\n",
      "         4.1092e-02,  5.2234e-02, -3.8893e-02, -2.6718e-02, -1.6469e-02,\n",
      "        -6.7352e-02,  2.4229e-02,  5.2816e-02,  9.1296e-03,  3.1745e-02,\n",
      "         9.8512e-06, -7.4128e-02,  6.7343e-02,  2.7189e-02, -3.3290e-02,\n",
      "         2.4938e-02,  1.3911e-01, -1.6346e-02,  5.7698e-02,  8.5572e-03,\n",
      "         2.2411e-02,  1.2744e-01, -5.4019e-02, -4.6290e-02, -3.2166e-02,\n",
      "         2.6089e-02, -1.7215e-02,  1.2253e-02, -1.0499e-02, -3.2825e-02,\n",
      "        -1.9582e-02, -1.8703e-02,  2.4397e-02, -1.5966e-02, -9.0348e-03,\n",
      "        -4.0480e-02, -3.4946e-02, -4.1295e-03, -1.6266e-02, -2.1978e-02,\n",
      "        -1.7487e-02, -3.3782e-02, -2.3592e-02,  3.5425e-03, -7.4264e-04,\n",
      "         3.1307e-02, -6.2347e-03,  3.5131e-03, -2.4152e-02, -2.3204e-02,\n",
      "        -2.9061e-02, -4.4748e-02, -2.8387e-02, -5.8240e-02, -2.0904e-02,\n",
      "        -8.2882e-02, -2.8693e-02,  1.7518e-02, -6.6475e-03,  1.5914e-02,\n",
      "        -2.1298e-02, -1.0561e-02, -2.0477e-02, -4.9915e-02,  4.5778e-02,\n",
      "         2.6745e-02,  4.1826e-02,  5.2995e-02,  5.8009e-02, -1.0801e-02,\n",
      "        -1.6683e-02, -1.8688e-02,  1.2048e-02,  3.1506e-03, -5.7292e-02,\n",
      "         1.9779e-02, -1.8598e-03, -1.0954e-02, -1.7734e-02, -4.0158e-03,\n",
      "         3.1638e-02,  3.1048e-02, -4.0357e-02,  5.9143e-02, -9.5935e-03,\n",
      "         6.8740e-02, -6.8005e-02, -1.8684e-02, -4.7758e-02, -3.7220e-02,\n",
      "        -5.1459e-02,  1.8015e-05], device='cuda:0')\n"
     ]
    }
   ],
   "source": [
    "located_autoencoders = load_autoencoders(desired_hyperparams,hyperparams_by_path)\n",
    "\n",
    "autoencoder = located_autoencoders[0].autoencoder\n",
    "autoencoder.to_device(device)\n",
    "learned_dict = autoencoder.get_learned_dict()\n",
    "cache_name = located_autoencoders[0].hyperparams['cache_name']\n",
    "print(\"Here is the first feature\")\n",
    "print(learned_dict[0])"
   ]
  },
  {
   "cell_type": "code",
   "execution_count": 11,
   "id": "f626a08c-83b7-475f-bf44-e64d3e788845",
   "metadata": {},
   "outputs": [],
   "source": [
    "attn = {\n",
    "    'q': [dict(model.named_parameters())[f'blocks.{i}.attn.W_Q'] for i in range(6)],\n",
    "    'k': [dict(model.named_parameters())[f'blocks.{i}.attn.W_K'] for i in range(6)],\n",
    "    'v': [dict(model.named_parameters())[f'blocks.{i}.attn.W_V'] for i in range(6)],\n",
    "    'o': [dict(model.named_parameters())[f'blocks.{i}.attn.W_O'] for i in range(6)],\n",
    "}\n",
    "embedding = model.W_E\n"
   ]
  },
  {
   "cell_type": "markdown",
   "id": "a012d252-9a33-4073-b3ae-8e99d55933a2",
   "metadata": {},
   "source": [
    "#### Load the input data we'll compute activations for"
   ]
  },
  {
   "cell_type": "code",
   "execution_count": 12,
   "id": "7907cd9b-be2a-4754-a291-07fb1ccddbb6",
   "metadata": {},
   "outputs": [],
   "source": [
    "dataset = load_dataset(dataset_name, split=\"train\").map(\n",
    "    lambda x: model.tokenizer(x['text']),\n",
    "    batched=True,\n",
    ").filter(\n",
    "    lambda x: len(x['input_ids']) > token_amount\n",
    ").map(\n",
    "    lambda x: {'input_ids': x['input_ids'][:token_amount]}\n",
    ")"
   ]
  },
  {
   "cell_type": "markdown",
   "id": "1d95772e-6698-47a9-b86e-fdb055feebec",
   "metadata": {},
   "source": [
    "#### And actually compute the activations"
   ]
  },
  {
   "cell_type": "code",
   "execution_count": 13,
   "id": "28b54131-e9b3-42bf-ab87-9c292fb7fa95",
   "metadata": {},
   "outputs": [],
   "source": [
    "dictionary_activations = get_dictionary_activations(model, autoencoder, dataset, cache_name, token_amount, device, 256)"
   ]
  },
  {
   "cell_type": "markdown",
   "id": "cf6cfdb4-1622-4a0f-a30d-5b209f16fa49",
   "metadata": {},
   "source": [
    "W_OV is a transformation from residual stream to residual stream\n",
    "Let W_OVf be the transformed feature where f is a dictionary feature\n",
    "Given f_i, we compute the set of f_j (denoted C_i) such that cos_sim(W_OVf_i, f_j) is greater than (1- epsilon)\n",
    "We see that C_i tends to be a singleton consisting of f_i only for low enough values of epsilon"
   ]
  },
  {
   "cell_type": "code",
   "execution_count": 64,
   "id": "47d8a312-7a78-4152-bb0e-6a05aca086a7",
   "metadata": {},
   "outputs": [
    {
     "name": "stdout",
     "output_type": "stream",
     "text": [
      "torch.Size([512, 512])\n",
      "[(1, [(tensor(0.3270), 637)]), (10, [(tensor(0.3174), 466)]), (156, [(tensor(0.3033), 334)]), (158, [(tensor(0.3460), 665)]), (305, [(tensor(0.3088), 637)]), (313, [(tensor(0.3157), 637)]), (406, [(tensor(0.3488), 637)]), (495, [(tensor(0.3218), 637)]), (556, [(tensor(0.3115), 637)]), (637, [(tensor(0.5761), 637)]), (662, [(tensor(0.3137), 662)]), (665, [(tensor(0.3788), 665)]), (846, [(tensor(0.3135), 637)]), (881, [(tensor(0.3142), 466)]), (897, [(tensor(0.3083), 466)]), (997, [(tensor(0.3019), 997)])]\n"
     ]
    }
   ],
   "source": [
    "#here plotting the deformation of features by attention_heads\n",
    "#We fix one head - head[4][5]\n",
    "features = learned_dict\n",
    "\n",
    "def cos_sim(a,b):\n",
    "    norm = torch.norm(a) * torch.norm(b)\n",
    "    return (torch.dot(a,b)/norm).detach().cpu()\n",
    "\n",
    "num_features =features.size(-2)\n",
    "W_OV = torch.einsum(\n",
    "        'na, bn -> ab',\n",
    "        attn['o'][3][2],\n",
    "        attn['v'][3][2]\n",
    "    )\n",
    "\n",
    "print(W_OV.shape)\n",
    "transformed_features = feature_transformation_by_head(\n",
    "    learned_dict,\n",
    "    W_OV\n",
    ")\n",
    "\n",
    "set_of_relations = []\n",
    "#play with epsilon to shorlist the features that have higher cosine similarity with the original features\n",
    "epsilon = 0.3\n",
    "\n",
    "for i in range(num_features):\n",
    "    row = []\n",
    "    for j in range(num_features):\n",
    "        cossim = cos_sim(transformed_features[i],features[j])\n",
    "        if cossim > epsilon:\n",
    "            row.append((cossim,j))\n",
    "    if row:\n",
    "        set_of_relations.append((i,row))\n",
    "    \n",
    "print(set_of_relations)      \n",
    "\n",
    "feature_ids = []\n",
    "for index,_ in set_of_relations:\n",
    "    feature_ids.append(index)\n",
    "\n"
   ]
  },
  {
   "cell_type": "markdown",
   "id": "d49ebcbc-2d46-49ff-9337-ab3122046f8e",
   "metadata": {},
   "source": [
    "Observation:\n",
    "The highest cosine similarity between transformed features and the original features is observed towards the same features, that is, a transformed feature tends to have a higher cosine similarity with itself rather than other features in the residual stream\n",
    "\n",
    "Is it possible that the heads is just doing a compressional algorithm on the features such that they can be easily recovered?\n",
    "\n",
    "Let's obeserve ||W_OVf_i -f_i||^2 where i is in the range of dictionary size!"
   ]
  },
  {
   "cell_type": "markdown",
   "id": "504002c5-ec47-4903-96d5-a4ff36bad12e",
   "metadata": {},
   "source": [
    "#### Random dictionary, random attention param"
   ]
  },
  {
   "cell_type": "code",
   "execution_count": 16,
   "id": "708abef1-1f6c-4841-85b5-7bccd377d3a8",
   "metadata": {
    "scrolled": true
   },
   "outputs": [
    {
     "data": {
      "text/plain": [
       "'distance= []\\nfor i in range(num_features):\\n    distance.append(torch.norm(transformed_features[i]-features[i]).detach().cpu())\\nprint(distance)\\n'"
      ]
     },
     "execution_count": 16,
     "metadata": {},
     "output_type": "execute_result"
    }
   ],
   "source": [
    "'''distance= []\n",
    "for i in range(num_features):\n",
    "    distance.append(torch.norm(transformed_features[i]-features[i]).detach().cpu())\n",
    "print(distance)\n",
    "'''"
   ]
  },
  {
   "cell_type": "markdown",
   "id": "f9ea93e7-19df-41f2-a76b-80e580936802",
   "metadata": {},
   "source": [
    "High enough distance between feature and transformed feature, so the optimisation problem is not minimising the euclidean distance, doubt is that it is minimising the cosine similarity instead"
   ]
  },
  {
   "cell_type": "markdown",
   "id": "081a697b-b495-42dc-b312-fa3da172bcf5",
   "metadata": {},
   "source": [
    "Can we watch the features when they are in the embedding space? Does a left inverse of the embedding matrix makes sense\n",
    "left_inverse = torch.linalg.pinv(matrix)"
   ]
  },
  {
   "cell_type": "code",
   "execution_count": 17,
   "id": "7bf09ce5-dc61-4e2c-b6eb-dda4a4d600db",
   "metadata": {},
   "outputs": [
    {
     "data": {
      "image/png": "[encoded data removed]",
      "text/plain": [
       "<Figure size 640x480 with 1 Axes>"
      ]
     },
     "metadata": {},
     "output_type": "display_data"
    }
   ],
   "source": [
    "scores = feature_attention_alignment_scores(\n",
    "    torch.randn(1024, 512).cuda(),\n",
    "    torch.randn(512, 64).cuda()\n",
    ").detach().cpu()\n",
    "plt.hist(scores, bins=100, range=(0, 1))\n",
    "plt.show()"
   ]
  },
  {
   "cell_type": "markdown",
   "id": "5c2fd4f6-efae-4121-af23-9349432967f5",
   "metadata": {},
   "source": [
    "Indeed, this does show a normal-ish looking distribution centered on $ \\frac{d\\_attn}{d\\_model} = \\frac{64}{512} = 0.125 $"
   ]
  },
  {
   "cell_type": "markdown",
   "id": "98279dc4-fa92-4204-a2f1-465c2381fa47",
   "metadata": {},
   "source": [
    "#### Random dictionary, real attention param (layer 4, head 5)"
   ]
  },
  {
   "cell_type": "code",
   "execution_count": 18,
   "id": "d8be9e47-a35b-4cfe-a651-b1bfc1f4ef14",
   "metadata": {},
   "outputs": [
    {
     "data": {
      "image/png": "[encoded data removed]",
      "text/plain": [
       "<Figure size 640x480 with 1 Axes>"
      ]
     },
     "metadata": {},
     "output_type": "display_data"
    }
   ],
   "source": [
    "scores = feature_attention_alignment_scores(\n",
    "    torch.randn(1024, 512).cuda(),\n",
    "    attn['k'][4][5]\n",
    ").detach().cpu()\n",
    "plt.hist(scores, bins=100, range=(0, 1))\n",
    "plt.show()"
   ]
  },
  {
   "cell_type": "markdown",
   "id": "0339f404-54a6-4373-bb98-bc8e22fb85a4",
   "metadata": {},
   "source": [
    "Again, normal-ish distribution centered around $ \\frac{d\\_attn}{d\\_model} = \\frac{64}{512} = 0.125 $"
   ]
  },
  {
   "cell_type": "markdown",
   "id": "7e695635-aca0-4355-b7da-01f869820e51",
   "metadata": {},
   "source": [
    "#### Real dictionary, random attention pattern"
   ]
  },
  {
   "cell_type": "code",
   "execution_count": 19,
   "id": "72cc656f-3963-4b7f-9a4c-3cd744ca8d42",
   "metadata": {},
   "outputs": [
    {
     "data": {
      "image/png": "[encoded data removed]",
      "text/plain": [
       "<Figure size 640x480 with 1 Axes>"
      ]
     },
     "metadata": {},
     "output_type": "display_data"
    }
   ],
   "source": [
    "scores = feature_attention_alignment_scores(\n",
    "    learned_dict,\n",
    "    torch.randn(512, 64).cuda()\n",
    ").detach().cpu()\n",
    "plt.hist(scores, bins=100, range=(0, 1))\n",
    "plt.show()"
   ]
  },
  {
   "cell_type": "markdown",
   "id": "287599be-d9a8-41fe-b825-a9a371f56d5f",
   "metadata": {},
   "source": [
    "Again, normal-ish distribution centered around $ \\frac{d\\_attn}{d\\_model} = \\frac{64}{512} = 0.125 $"
   ]
  },
  {
   "cell_type": "markdown",
   "id": "dfd3890a-fd9b-47c2-8fcb-87fb0f6ac626",
   "metadata": {},
   "source": [
    "### Testing on real features and attention params"
   ]
  },
  {
   "cell_type": "markdown",
   "id": "fede3d1e-6e80-418c-964f-19b6927d00e9",
   "metadata": {},
   "source": [
    "##### Verify that the FAAS distribution is long-tailed on an attn key param"
   ]
  },
  {
   "cell_type": "code",
   "execution_count": 20,
   "id": "7ac5e52a-505b-428c-a552-5296028b6638",
   "metadata": {},
   "outputs": [
    {
     "data": {
      "image/png": "[encoded data removed]",
      "text/plain": [
       "<Figure size 640x480 with 1 Axes>"
      ]
     },
     "metadata": {},
     "output_type": "display_data"
    }
   ],
   "source": [
    "layer, head = 4, 5\n",
    "\n",
    "scores = feature_attention_alignment_scores(learned_dict, attn['k'][layer][head]).detach().cpu()\n",
    "plt.hist(scores, bins=100)\n",
    "plt.show()"
   ]
  },
  {
   "cell_type": "markdown",
   "id": "1e1b23f8-2b00-4560-904a-08e43bd00158",
   "metadata": {},
   "source": [
    "That is the long-tailed distribution we've been looking for."
   ]
  },
  {
   "cell_type": "markdown",
   "id": "12c2eb9e-085f-4c9e-87f5-8b9f023bf1b0",
   "metadata": {},
   "source": [
    "##### Verify that the FAAS distribution is long-tailed on an attn query param"
   ]
  },
  {
   "cell_type": "code",
   "execution_count": 21,
   "id": "aaf61de4-f50b-492a-bc6f-505a3d61f6b7",
   "metadata": {},
   "outputs": [
    {
     "data": {
      "image/png": "[encoded data removed]",
      "text/plain": [
       "<Figure size 640x480 with 1 Axes>"
      ]
     },
     "metadata": {},
     "output_type": "display_data"
    }
   ],
   "source": [
    "layer, head = 4, 3\n",
    "\n",
    "scores = feature_attention_alignment_scores(learned_dict, attn['q'][layer][head]).detach().cpu()\n",
    "plt.hist(scores, bins=100)\n",
    "plt.show()"
   ]
  },
  {
   "cell_type": "markdown",
   "id": "3452af39-6fb6-438d-9952-161129db5327",
   "metadata": {},
   "source": [
    "That is _very much_ the long-tailed distribution we've been looking for."
   ]
  },
  {
   "cell_type": "code",
   "execution_count": 22,
   "id": "5696bbb3-f543-4ca3-945b-e282a8cf47d0",
   "metadata": {},
   "outputs": [
    {
     "name": "stdout",
     "output_type": "stream",
     "text": [
      "[8, 17, 66, 114, 144, 167, 177, 245, 295, 333, 346, 359, 364, 369, 397, 454, 510, 535, 537, 551, 637, 662, 665, 669, 758, 823, 837, 847, 883, 901, 904, 997]\n",
      "[(8, [(tensor(0.2522), 8)]), (17, [(tensor(0.3021), 17)]), (66, [(tensor(0.3795), 66)]), (114, [(tensor(0.2646), 114)]), (144, [(tensor(0.3294), 144)]), (167, [(tensor(0.3141), 167)]), (177, [(tensor(0.3665), 177)]), (245, [(tensor(0.2666), 245)]), (295, [(tensor(0.3142), 295)]), (333, [(tensor(0.2510), 837)]), (346, [(tensor(0.5159), 346)]), (359, [(tensor(0.3821), 359)]), (364, [(tensor(0.2567), 637)]), (369, [(tensor(0.2537), 637)]), (397, [(tensor(0.3104), 397)]), (454, [(tensor(0.2558), 454)]), (510, [(tensor(0.2504), 1006)]), (535, [(tensor(0.3561), 535)]), (537, [(tensor(0.4083), 537)]), (551, [(tensor(0.3076), 537), (tensor(0.2718), 551)]), (637, [(tensor(0.4476), 637)]), (662, [(tensor(0.3613), 662)]), (665, [(tensor(0.2967), 665)]), (669, [(tensor(0.3129), 669)]), (758, [(tensor(0.4800), 758)]), (823, [(tensor(0.2542), 537)]), (837, [(tensor(0.5126), 837)]), (847, [(tensor(0.2700), 637)]), (883, [(tensor(0.4020), 883)]), (901, [(tensor(0.4476), 901)]), (904, [(tensor(0.3085), 904)]), (997, [(tensor(0.3041), 758), (tensor(0.3974), 997)])]\n"
     ]
    }
   ],
   "source": [
    "print(feature_ids)\n",
    "print(set_of_relations)"
   ]
  },
  {
   "cell_type": "code",
   "execution_count": 24,
   "id": "607e373c-c615-40cd-b8d6-b7eb7d941d85",
   "metadata": {},
   "outputs": [
    {
     "name": "stdout",
     "output_type": "stream",
     "text": [
      "512 64\n"
     ]
    },
    {
     "data": {
      "text/markdown": [
       "##### Examining Layer:4/Head:5/W_K"
      ],
      "text/plain": [
       "<IPython.core.display.Markdown object>"
      ]
     },
     "metadata": {},
     "output_type": "display_data"
    },
    {
     "name": "stdout",
     "output_type": "stream",
     "text": [
      "Found 5 features over threshold 0.500 for L4H5:W_K\n",
      "Feature ids = [154, 197, 319, 665, 705]\n"
     ]
    },
    {
     "data": {
      "text/markdown": [
       "##### Examining Layer:4/Head:5/W_Q"
      ],
      "text/plain": [
       "<IPython.core.display.Markdown object>"
      ]
     },
     "metadata": {},
     "output_type": "display_data"
    },
    {
     "name": "stdout",
     "output_type": "stream",
     "text": [
      "Found 2 features over threshold 1.500 for L4H5:W_Q\n",
      "Feature ids = [390, 471]\n"
     ]
    }
   ],
   "source": [
    "# Pick out the features above a threshold value\n",
    "d_model, d_head = model.cfg.d_model, model.cfg.d_head\n",
    "print(d_model,d_head)\n",
    "\n",
    "# These are not super principled, maybe \"top k features\" would be a better metric but even more\n",
    "# ideally we'd have a principled way of deciding whether a feature was actually attended to\n",
    "threshold_multipliers_by_attn_key = {\n",
    "    'k': 4,\n",
    "    'q': 12,\n",
    "}\n",
    "\n",
    "layer, head = 4, 5\n",
    "\n",
    "for attn_key, threshold_multiplier in threshold_multipliers_by_attn_key.items():\n",
    "    display(Markdown(f'##### Examining Layer:{layer}/Head:{head}/W_{attn_key.upper()}'))\n",
    "    threshold = threshold_multiplier * d_head / d_model\n",
    "    scores = feature_attention_alignment_scores(learned_dict, attn[attn_key][layer][head]).detach().cpu()\n",
    "    feature_ids = (scores > threshold).nonzero().flatten().tolist()\n",
    "    print(f\"Found {len(feature_ids)} features over threshold {threshold:.3f} for L{layer}H{head}:W_{attn_key.upper()}\")\n",
    "    print(f\"Feature ids = {feature_ids}\")\n",
    "    tokens_by_feature_id, activations_by_feature_id = {}, {}\n",
    "    for feature_id in feature_ids:\n",
    "        text_list, full_text, token_list, full_token_list = get_feature_datapoints(\n",
    "            feature_id,\n",
    "            model,\n",
    "            dataset.num_rows,\n",
    "            token_amount,\n",
    "            dictionary_activations,\n",
    "            dataset,\n",
    "            setting=\"max\"\n",
    "        )\n",
    "\n",
    "        "
   ]
  },
  {
   "cell_type": "code",
   "execution_count": 62,
   "id": "054d9ee1-9ba8-48ca-b9f5-6dc654db1903",
   "metadata": {
    "scrolled": true
   },
   "outputs": [
    {
     "name": "stdout",
     "output_type": "stream",
     "text": [
      "tensor(-0.0061)\n",
      "(758, [(tensor(0.3450), 758)])\n",
      "(837, [(tensor(0.3005), 837)])\n"
     ]
    }
   ],
   "source": [
    "print(cos_sim(learned_dict[823],learned_dict[537]))\n",
    "#print(set_of_relations)\n",
    "\n",
    "def sorting_key(item):\n",
    "    return max(subitem[0] for subitem in item[1])\n",
    "\n",
    "# Sort the list using the custom sorting key\n",
    "sorted_data = sorted(set_of_relations, key=sorting_key, reverse=True)\n",
    "\n",
    "# Print the sorted result\n",
    "for item in sorted_data:\n",
    "    print(item)"
   ]
  },
  {
   "cell_type": "code",
   "execution_count": 54,
   "id": "772f9dba-d73c-4946-bc8c-9004418cc2b1",
   "metadata": {},
   "outputs": [
    {
     "name": "stdout",
     "output_type": "stream",
     "text": [
      "tensor(0.1020)\n"
     ]
    }
   ],
   "source": [
    "print(cos_sim(learned_dict[369],learned_dict[997]))"
   ]
  },
  {
   "cell_type": "code",
   "execution_count": 53,
   "id": "d4e9d82a-06cc-4f98-b558-17d679216263",
   "metadata": {
    "scrolled": true
   },
   "outputs": [
    {
     "name": "stdout",
     "output_type": "stream",
     "text": [
      "['Q:\\n\\nFind the value of $a \\\\in R$ such that $\\\\langle x_n \\\\', 'Q:\\n\\nConstraints on sliding windows\\n\\nLet $L\\\\', 'Q:\\n\\nSimplest proof that $\\\\binom{n}{k} \\\\', 'Q:\\n\\nWhy there exists an element $ y\\\\', 'Q:\\n\\nFind a hypergraph such that $|e|$ even, $|e\\\\', 'Q:\\n\\nLimits - prove or disprove\\n\\nIf $\\\\lim_{x \\\\', 'Q:\\n\\nFind the value of $a \\\\', 'Q:\\n\\nIntegrals of $\\\\int^\\\\infty _2 \\\\', 'Q:\\n\\nWhy there exists an element $ y\\\\in G\\\\', 'Q:\\n\\nShow $f(w)=\\\\frac{1}{2\\\\pi i}\\\\']\n"
     ]
    },
    {
     "data": {
      "text/html": [
       "<div id=\"circuits-vis-4ef4e37c-f291\" style=\"margin: 15px 0;\"/>\n",
       "    <script crossorigin type=\"module\">\n",
       "    import { render, TextNeuronActivations } from \"https://unpkg.com/circuitsvis@1.40.1/dist/cdn/esm.js\";\n",
       "    render(\n",
       "      \"circuits-vis-4ef4e37c-f291\",\n",
       "      TextNeuronActivations,\n",
       "      {\"tokens\": [\"Q\", \":\", \"\\\\newline\", \"\\\\newline\", \"Find\", \" the\", \" value\", \" of\", \" $\", \"a\", \" \\\\\", \"in\", \" R\", \"$\", \" such\", \" that\", \" $\\\\\", \"langle\", \" x\", \"_\", \"n\", \" \\\\\", \"\\n\", \"Q\", \":\", \"\\\\newline\", \"\\\\newline\", \"Constraints\", \" on\", \" sliding\", \" windows\", \"\\\\newline\", \"\\\\newline\", \"Let\", \" $\", \"L\", \"\\\\\", \"\\n\", \"Q\", \":\", \"\\\\newline\", \"\\\\newline\", \"Sim\", \"pl\", \"est\", \" proof\", \" that\", \" $\\\\\", \"binom\", \"{\", \"n\", \"}{\", \"k\", \"}\", \" \\\\\", \"\\n\", \"Q\", \":\", \"\\\\newline\", \"\\\\newline\", \"Why\", \" there\", \" exists\", \" an\", \" element\", \" $\", \" y\", \"\\\\\", \"\\n\", \"Q\", \":\", \"\\\\newline\", \"\\\\newline\", \"Find\", \" a\", \" hyper\", \"graph\", \" such\", \" that\", \" $|\", \"e\", \"|$\", \" even\", \",\", \" $|\", \"e\", \"\\\\\", \"\\n\", \"Q\", \":\", \"\\\\newline\", \"\\\\newline\", \"L\", \"imits\", \" -\", \" prove\", \" or\", \" dis\", \"prove\", \"\\\\newline\", \"\\\\newline\", \"If\", \" $\\\\\", \"lim\", \"_{\", \"x\", \" \\\\\", \"\\n\", \"Q\", \":\", \"\\\\newline\", \"\\\\newline\", \"Find\", \" the\", \" value\", \" of\", \" $\", \"a\", \" \\\\\", \"\\n\", \"Q\", \":\", \"\\\\newline\", \"\\\\newline\", \"Integr\", \"als\", \" of\", \" $\\\\\", \"int\", \"^\\\\\", \"infty\", \" _\", \"2\", \" \\\\\", \"\\n\", \"Q\", \":\", \"\\\\newline\", \"\\\\newline\", \"Why\", \" there\", \" exists\", \" an\", \" element\", \" $\", \" y\", \"\\\\\", \"in\", \" G\", \"\\\\\", \"\\n\", \"Q\", \":\", \"\\\\newline\", \"\\\\newline\", \"Show\", \" $\", \"f\", \"(\", \"w\", \")=\\\\\", \"frac\", \"{\", \"1\", \"}{\", \"2\", \"\\\\\", \"pi\", \" i\", \"}\\\\\", \"\\n\"], \"activations\": [[[0.0]], [[0.0]], [[0.0]], [[0.0]], [[0.0]], [[0.0]], [[0.0]], [[0.0]], [[0.0]], [[0.0]], [[4.0189971923828125]], [[0.0]], [[0.012233078479766846]], [[0.5252676606178284]], [[0.0]], [[0.0]], [[1.4105756282806396]], [[0.0]], [[0.3120792508125305]], [[0.8438553214073181]], [[0.30907541513442993]], [[4.523244380950928]], [[0.0]], [[0.0]], [[0.0]], [[0.0]], [[0.0]], [[0.0]], [[0.0]], [[0.0]], [[0.0]], [[0.0]], [[0.0]], [[0.0]], [[0.0]], [[0.0]], [[4.4595818519592285]], [[0.0]], [[0.0]], [[0.0]], [[0.0]], [[0.0]], [[0.0]], [[0.0]], [[0.0]], [[0.0]], [[0.0]], [[0.8805062174797058]], [[0.0]], [[0.0]], [[0.0]], [[0.20788389444351196]], [[0.0]], [[2.0509033203125]], [[4.0937089920043945]], [[0.0]], [[0.0]], [[0.0]], [[0.0]], [[0.0]], [[0.0]], [[0.0]], [[0.0]], [[0.0]], [[0.0]], [[0.0]], [[0.0]], [[4.073214530944824]], [[0.0]], [[0.0]], [[0.0]], [[0.0]], [[0.0]], [[0.0]], [[0.0]], [[0.0]], [[0.0]], [[0.0]], [[0.0]], [[0.0]], [[0.03989005088806152]], [[0.3356460928916931]], [[0.0]], [[0.0]], [[0.0]], [[0.16253411769866943]], [[4.058828830718994]], [[0.0]], [[0.0]], [[0.0]], [[0.0]], [[0.0]], [[0.0]], [[0.0]], [[0.0]], [[0.0]], [[0.0]], [[0.0]], [[0.0]], [[0.0]], [[0.0]], [[0.0]], [[1.0681564807891846]], [[0.0]], [[0.0]], [[0.0]], [[4.031932353973389]], [[0.0]], [[0.0]], [[0.0]], [[0.0]], [[0.0]], [[0.0]], [[0.0]], [[0.0]], [[0.0]], [[0.0]], [[0.0]], [[4.0189971923828125]], [[0.0]], [[0.0]], [[0.0]], [[0.0]], [[0.0]], [[0.0]], [[0.0]], [[0.0]], [[1.0034465789794922]], [[0.0]], [[0.4382997155189514]], [[0.0]], [[0.0]], [[0.0]], [[4.006087303161621]], [[0.0]], [[0.0]], [[0.0]], [[0.0]], [[0.0]], [[0.0]], [[0.0]], [[0.0]], [[0.0]], [[0.0]], [[0.0]], [[0.0]], [[4.073214530944824]], [[0.0]], [[0.20398318767547607]], [[3.96150803565979]], [[0.0]], [[0.0]], [[0.0]], [[0.0]], [[0.0]], [[0.0]], [[0.0]], [[0.0]], [[0.3253490924835205]], [[0.0]], [[2.277320384979248]], [[0.6179971098899841]], [[0.42727404832839966]], [[0.0004532337188720703]], [[0.0]], [[0.0]], [[3.5544774532318115]], [[0.0]], [[0.7850351929664612]], [[3.847820520401001]], [[0.0]]], \"firstDimensionName\": \"Attn Param\", \"secondDimensionName\": \"Feature\", \"firstDimensionLabels\": [\"Layer:4/Head:5/W_OV\"], \"secondDimensionLabels\": [\"369\"]}\n",
       "    )\n",
       "    </script>"
      ],
      "text/plain": [
       "<circuitsvis.utils.render.RenderedHTML at 0x7f43947e6830>"
      ]
     },
     "metadata": {},
     "output_type": "display_data"
    }
   ],
   "source": [
    "feature_id = 369\n",
    "# [(346, [(tensor(0.5587), 346)]), (637, [(tensor(0.5720), 637)]), (758, [(tensor(0.5174), 758)]), (837, [(tensor(0.7048), 837)]),\n",
    "# (901, [(tensor(0.5087), 901)]), (997, [(tensor(0.5013), 997)])]\n",
    "# 758: physics, 997: abstract math, 369: less abstract latex math\n",
    "\n",
    "text_list, full_text, token_list, full_token_list = get_feature_datapoints(\n",
    "    feature_id,\n",
    "    model,\n",
    "    dataset.num_rows,\n",
    "    token_amount,\n",
    "    dictionary_activations,\n",
    "    dataset,\n",
    "    setting=\"max\"\n",
    ")\n",
    "print(text_list)\n",
    "attn_key = 'ov'\n",
    "tokens, activations = get_tokens_and_activations(text_list, feature_id, autoencoder, model, cache_name)\n",
    "activations = activations.flatten()\n",
    "tokens_by_feature_id[feature_id] = tokens\n",
    "activations_by_feature_id[feature_id] = activations\n",
    "display(text_neuron_activations(\n",
    "    tokens=tokens,\n",
    "    activations=activations[:,None,None],\n",
    "    first_dimension_name=\"Attn Param\",\n",
    "    second_dimension_name=\"Feature\",\n",
    "    first_dimension_labels=[f'Layer:{layer}/Head:{head}/W_{attn_key.upper()}'],\n",
    "    second_dimension_labels=[str(feature_id)]\n",
    "))"
   ]
  },
  {
   "cell_type": "markdown",
   "id": "51ce3855-7ea5-45b8-a4bf-92777c76adf0",
   "metadata": {},
   "source": [
    "#### Do some interpretability stuff"
   ]
  },
  {
   "cell_type": "raw",
   "id": "bca2fae5-ff41-4077-a4ae-d4bc1342460f",
   "metadata": {},
   "source": [
    "woog hacky ideas:\n",
    "- for f_i in a dictionary trained on some layer (e.g. layer 2), check (W_OV f, f) for W_OV across all heads and all layers.\n",
    "  - even though f_i need not preserve the same meaning as it does in the original layer it was sampled from, we may skim info about other attention layer transformations from this at the very least knowing it was involved with a computation in a specific node of interest\n",
    "-> the OV decomposition from the mathematical framework, find code for it "
   ]
  },
  {
   "cell_type": "raw",
   "id": "350b80b7-4401-4efd-bb45-5b5a02270099",
   "metadata": {},
   "source": [
    "Concrete things: \n",
    "->we use features trained on cached values of resid-post in layer 2\n",
    "->OV matrix of later layers (3 and above preserve features not earlier as much: nice way to plot)\n",
    "-> for a layer: plot the transformed feature cos_sim for all heads, see if \"copied/preserved\" features vary among heads (Nice visuals, ask chatgpt)\n"
   ]
  },
  {
   "cell_type": "code",
   "execution_count": null,
   "id": "da758e23-ec15-470d-bb2b-8baaad3cf283",
   "metadata": {},
   "outputs": [],
   "source": []
  },
  {
   "cell_type": "code",
   "execution_count": null,
   "id": "6c46f1a2-7d08-4afd-91c3-8298a7768796",
   "metadata": {},
   "outputs": [],
   "source": []
  },
  {
   "cell_type": "code",
   "execution_count": null,
   "id": "2ce08c28-ab42-4db2-8a97-62ceec5d9406",
   "metadata": {},
   "outputs": [],
   "source": []
  },
  {
   "cell_type": "code",
   "execution_count": null,
   "id": "ab78c119-f240-4fd8-8a97-07966f9fa74a",
   "metadata": {},
   "outputs": [],
   "source": []
  },
  {
   "cell_type": "code",
   "execution_count": null,
   "id": "8555300f-ab1b-449e-9e01-1f3344233173",
   "metadata": {},
   "outputs": [],
   "source": []
  },
  {
   "cell_type": "code",
   "execution_count": null,
   "id": "e29213c3-5d86-448b-a93f-78b3a7855cac",
   "metadata": {},
   "outputs": [],
   "source": []
  },
  {
   "cell_type": "code",
   "execution_count": null,
   "id": "7ce7a782-8df6-4c1c-8fc1-0c2341e71f0a",
   "metadata": {},
   "outputs": [],
   "source": []
  }
 ],
 "metadata": {
  "kernelspec": {
   "display_name": "Python 3 (ipykernel)",
   "language": "python",
   "name": "python3"
  },
  "language_info": {
   "codemirror_mode": {
    "name": "ipython",
    "version": 3
   },
   "file_extension": ".py",
   "mimetype": "text/x-python",
   "name": "python",
   "nbconvert_exporter": "python",
   "pygments_lexer": "ipython3",
   "version": "3.10.11"
  }
 },
 "nbformat": 4,
 "nbformat_minor": 5
}
